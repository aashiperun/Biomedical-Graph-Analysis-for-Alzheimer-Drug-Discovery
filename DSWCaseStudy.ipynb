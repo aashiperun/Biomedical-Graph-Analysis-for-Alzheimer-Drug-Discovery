{
  "cells": [
    {
      "cell_type": "code",
      "execution_count": 51,
      "metadata": {
        "id": "Jp228Ki8O93Q"
      },
      "outputs": [],
      "source": [
        "import pandas as pd\n",
        "import numpy as np\n",
        "\n",
        "import torch as th\n",
        "import torch.nn.functional as fn\n",
        "\n",
        "from sklearn import metrics\n",
        "from sklearn import preprocessing\n",
        "import matplotlib.pyplot as plt"
      ]
    },
    {
      "cell_type": "code",
      "execution_count": 52,
      "metadata": {
        "id": "NBCVLIHZQyYB"
      },
      "outputs": [],
      "source": [
        "def transE(head, rel, tail, gamma=12.0):\n",
        "    # Paper link: https://papers.nips.cc/paper/5071-translating-embeddings-for-modeling-multi-relational-data\n",
        "    score = head + rel - tail\n",
        "    \n",
        "    return gamma - th.norm(score, p=2, dim=-1)"
      ]
    },
    {
      "cell_type": "code",
      "execution_count": 53,
      "metadata": {
        "id": "APpgONcnUiMM"
      },
      "outputs": [],
      "source": [
        "def transR(head, rel, tail, proj, rel_idx, gamma=12.0):\n",
        "    # Paper link: https://www.aaai.org/ocs/index.php/AAAI/AAAI15/paper/download/9571/9523\n",
        "    proj = proj.reshape(-1, head.shape[1], rel.shape[0])[rel_idx]\n",
        "    head_r = th.einsum('ab,bc->ac', head, proj)\n",
        "    tail_r = th.einsum('b,bc->c', th.tensor(tail), proj)\n",
        "    score = head_r + rel - tail_r\n",
        "    \n",
        "    return gamma - th.norm(score, p=1, dim=-1)"
      ]
    },
    {
      "cell_type": "code",
      "execution_count": 54,
      "metadata": {
        "id": "TJeMwxKGUmZK"
      },
      "outputs": [],
      "source": [
        "def DistMult(head, rel, tail):\n",
        "    # Paper link: https://arxiv.org/abs/1412.6575\n",
        "    score = head * rel * tail\n",
        "    \n",
        "    return th.sum(score, dim=-1)"
      ]
    },
    {
      "cell_type": "code",
      "execution_count": 55,
      "metadata": {
        "id": "k8x1mqaYUoF2"
      },
      "outputs": [],
      "source": [
        "def complEx(head, rel, tail, gamma=12.0):\n",
        "    # Paper link: https://arxiv.org/abs/1606.06357\n",
        "    real_head, img_head = th.chunk(head, 2, dim=-1)\n",
        "    real_tail, img_tail = th.chunk(th.tensor(tail), 2, dim=-1)\n",
        "    real_rel, img_rel = th.chunk(rel, 2, dim=-1)\n",
        "\n",
        "    score = real_head * real_tail * real_rel \\\n",
        "            + img_head * img_tail * real_rel \\\n",
        "            + real_head * img_tail * img_rel \\\n",
        "            - img_head * real_tail * img_rel\n",
        "\n",
        "    return th.sum(score, -1)"
      ]
    },
    {
      "cell_type": "code",
      "execution_count": 56,
      "metadata": {
        "id": "x89Zi36KUyEK"
      },
      "outputs": [],
      "source": [
        "Drug_list_folder = 'MLH/Drug_list_ad/'\n",
        "kg_folder = ''\n",
        "result_folder = 'MLH/ADResults/'\n",
        "folder = 'MLH/'"
      ]
    },
    {
      "cell_type": "code",
      "execution_count": 57,
      "metadata": {
        "id": "6zGoJ8ctWchA"
      },
      "outputs": [],
      "source": [
        "def AD_drugs_possibility_prediction(model_name, trial_status):\n",
        "    entity_df = pd.read_table(folder + '/entities.tsv', header=None)##\n",
        "    entity_df = entity_df.dropna().reset_index(drop=True)\n",
        "    approved_drug_df = pd.read_csv(Drug_list_folder + 'drugs_list_' + trial_status + '.csv')## approved_drug_df = pd.read_csv(Drug_list_folder + 'drugs_list_' + trial_status + '.csv')\n",
        "    approved_drug_list = list(approved_drug_df['Drug'])\n",
        "\n",
        "    entity_map = {}\n",
        "    entity_id_map = {}\n",
        "    relation_map = {}\n",
        "    drug_ids = []\n",
        "    drug_names = []\n",
        "    disease_ids = []\n",
        "\n",
        "    for i in range(len(entity_df)):\n",
        "        entity_id = entity_df.loc[i, 0]\n",
        "        entity_name = entity_df.loc[i, 1]\n",
        "        entity_map[entity_name] = int(entity_id)\n",
        "        entity_id_map[int(entity_id)] = entity_name\n",
        "        if entity_name.replace('DrugBank:', '') in approved_drug_list:\n",
        "            drug_ids.append(entity_id)\n",
        "            drug_names.append(entity_name.replace('DrugBank:', ''))\n",
        "\n",
        "    disease_vocab = pd.read_csv(kg_folder + 'Entity/disease_vocab.csv')\n",
        "    AD_related_list = [] ##\n",
        "    for i in range(len(disease_vocab)):\n",
        "        primary_id = disease_vocab.loc[i, 'primary']\n",
        "        disease_name = disease_vocab.loc[i, 'name']\n",
        "        disease_name = disease_name if not pd.isnull(disease_name) else ''\n",
        "        if 'alzheimer' in disease_name:\n",
        "            if primary_id not in AD_related_list:\n",
        "                AD_related_list.append(primary_id)\n",
        "\n",
        "    relation_df = pd.read_table(folder + '/relations.tsv', header=None)\n",
        "    for i in range(len(relation_df)):\n",
        "        relation_id = relation_df.loc[i, 0]\n",
        "        relation_name = relation_df.loc[i, 1]\n",
        "        relation_map[relation_name] = int(relation_id)\n",
        "\n",
        "    for disease in AD_related_list:##\n",
        "        if disease in entity_map:\n",
        "            disease_ids.append(entity_map[disease])\n",
        "\n",
        "    entity_emb = np.load(folder + model_name + '/iBKH_' + model_name + '_entity.npy')\n",
        "    rel_emb = np.load(folder + model_name + '/iBKH_' + model_name + '_relation.npy')\n",
        "    if model_name == 'TransR':\n",
        "        proj_np = np.load(folder + 'TransR/iBKH_TransRprojection.npy')\n",
        "        proj_emb = th.tensor(proj_np)\n",
        "\n",
        "    treatment = ['Treats_DDi', 'Palliates_DDi', 'Effect_DDi', 'Associate_DDi', 'Inferred_Relation_DDi',\n",
        "                 'Semantic_Relation_DDi']\n",
        "    treatment_rid = [relation_map[treat] for treat in treatment]\n",
        "\n",
        "    drug_ids = th.tensor(drug_ids).long()\n",
        "    disease_ids = th.tensor(disease_ids).long()\n",
        "    treatment_rid = th.tensor(treatment_rid)\n",
        "\n",
        "    drug_emb = th.tensor(entity_emb[drug_ids])\n",
        "    treatment_embs = [th.tensor(rel_emb[rid]) for rid in treatment_rid]\n",
        "\n",
        "    scores_per_disease = []\n",
        "    dids = []\n",
        "    for rid in range(len(treatment_embs)):\n",
        "        treatment_emb = treatment_embs[rid]\n",
        "        for disease_id in disease_ids:\n",
        "            disease_emb = th.tensor(entity_emb[disease_id])\n",
        "            if model_name == 'RotatE':\n",
        "                score = fn.logsigmoid(rotatE(drug_emb, treatment_emb, disease_emb))\n",
        "            elif model_name == 'ComplEx':\n",
        "                score = fn.logsigmoid(complEx(drug_emb, treatment_emb, disease_emb))\n",
        "            elif model_name == 'TransR':\n",
        "                score = fn.logsigmoid(transR(drug_emb, treatment_emb, disease_emb, proj_emb, treatment_rid[rid]))\n",
        "            elif model_name == 'TransE':\n",
        "                score = fn.logsigmoid(transE(drug_emb, treatment_emb, disease_emb))\n",
        "            elif model_name == 'DistMult':\n",
        "                score = fn.logsigmoid(DistMult(drug_emb, treatment_emb, disease_emb))\n",
        "            scores_per_disease.append(score)\n",
        "            dids.append(drug_ids)\n",
        "    #print(scores_per_disease)\n",
        "    scores = th.cat(scores_per_disease)\n",
        "    dids = th.cat(dids)\n",
        "\n",
        "    idx = th.flip(th.argsort(scores), dims=[0])\n",
        "    scores = scores[idx].numpy()\n",
        "    dids = dids[idx].numpy()\n",
        "\n",
        "    _, unique_indices = np.unique(dids, return_index=True)\n",
        "    topk_indices = np.sort(unique_indices)\n",
        "    proposed_dids = dids[topk_indices]\n",
        "    proposed_scores = scores[topk_indices]\n",
        "\n",
        "    candidate_drug_rank = []\n",
        "    candidate_drug_score = {}\n",
        "    for i, idx in enumerate(proposed_dids):\n",
        "        candidate_drug_rank.append(entity_id_map[int(idx)].replace('DrugBank:', ''))\n",
        "        candidate_drug_score[entity_id_map[int(idx)].replace('DrugBank:', '')] = proposed_scores[i]\n",
        "\n",
        "    df = pd.DataFrame(columns=['Drug', 'Score'])\n",
        "    idx = 0\n",
        "    for drug in candidate_drug_score:\n",
        "        df.loc[idx] = [drug, candidate_drug_score[drug]]\n",
        "        idx += 1\n",
        "\n",
        "    x = np.asarray(df['Score']).reshape(-1, 1)  # returns a numpy array\n",
        "    min_max_scaler = preprocessing.MinMaxScaler()\n",
        "    x_scaled = min_max_scaler.fit_transform(x)\n",
        "    df['Score_scaled'] = pd.DataFrame(x_scaled)\n",
        "    #print(df)\n",
        "    df.to_csv(result_folder + \"predict_result_scaled_\" + model_name + \"_\" + trial_status + \".csv\", index=False)"
      ]
    },
    {
      "cell_type": "code",
      "execution_count": 58,
      "metadata": {
        "id": "vzuGN35VW1aP"
      },
      "outputs": [],
      "source": [
        "def ensemble_model(trial_status):\n",
        "    transE_res = pd.read_csv(result_folder + \"predict_result_scaled_TransE_\" + trial_status + \".csv\")['Drug'].tolist()\n",
        "    transR_res = pd.read_csv(result_folder + \"predict_result_scaled_TransR_\" + trial_status + \".csv\")['Drug'].tolist()\n",
        "    complEx_res = pd.read_csv(result_folder + \"predict_result_scaled_ComplEx_\" + trial_status + \".csv\")['Drug'].tolist()\n",
        "    distMult_res = pd.read_csv(result_folder + \"predict_result_scaled_DistMult_\" + trial_status + \".csv\")['Drug'].tolist()\n",
        "\n",
        "    res = pd.DataFrame(columns=['Drug', 'vote_score'])\n",
        "    idx = 0\n",
        "    for drug in transE_res:\n",
        "        vote_transE = len(transE_res) - transE_res.index(drug)\n",
        "        vote_transR = len(transR_res) - transR_res.index(drug)\n",
        "        vote_complEx = len(complEx_res) - complEx_res.index(drug)\n",
        "        vote_distMult = len(distMult_res) - distMult_res.index(drug)\n",
        "        vote_score = vote_transE + vote_transR + vote_complEx + vote_distMult\n",
        "        res.loc[idx] = [drug, vote_score]\n",
        "        idx += 1\n",
        "    res = res.sort_values('vote_score', ascending=False)\n",
        "    res = res.reset_index(drop=True)\n",
        "    x = np.asarray(res['vote_score']).reshape(-1, 1)\n",
        "    min_max_scaler = preprocessing.MinMaxScaler()\n",
        "    x_scaled = min_max_scaler.fit_transform(x)\n",
        "    res['Score_scaled'] = pd.DataFrame(x_scaled)\n",
        "    #print(res)\n",
        "    res.to_csv(result_folder + \"predict_result_scaled_ensemble_\" + trial_status + \".csv\", index=False)"
      ]
    },
    {
      "cell_type": "code",
      "execution_count": 59,
      "metadata": {
        "id": "-GmBIs4BW57i"
      },
      "outputs": [],
      "source": [
        "def generate_AUC(model_name):\n",
        "    figures_folder = result_folder + 'roc_figures/'\n",
        "    drug_trial_list = ['approve_phase1234', 'approve_phase234', 'approve_phase34', 'approve_phase4', 'approve']\n",
        "    trial_info = {'approve_phase1234': {'label': 'FDA approved+Phase I~IV', 'color': '#6a4c93'},\n",
        "                  'approve_phase234': {'label': 'FDA approved+Phase II~IV', 'color': '#1982c4'},\n",
        "                  'approve_phase34': {'label': 'FDA approved+Phase III,IV', 'color': '#8ac926'},\n",
        "                  'approve_phase4': {'label': 'FDA approved+Phase IV', 'color': '#ffca3a'},\n",
        "                  'approve': {'label': 'FDA approved', 'color': '#ff595e'}}\n",
        "    plt.figure(figsize=(7, 7))\n",
        "\n",
        "    for trial_status in drug_trial_list:\n",
        "        predict_res = pd.read_csv(result_folder + \"predict_result_scaled_\" + model_name + \"_\" + trial_status + \".csv\")\n",
        "        candidate_df = pd.read_csv(Drug_list_folder + 'drugs_list_' + trial_status + '.csv')##\n",
        "\n",
        "        df = pd.merge(predict_res, candidate_df, on='Drug')\n",
        "\n",
        "        label = np.array(list(df['label']))\n",
        "        score = np.array(list(df['Score_scaled']))\n",
        "        #score = np.array(list(df['Score']))\n",
        "        #print(\"Label:\", label, \"Score:\", score)\n",
        "        fpr, tpr, thresholds = metrics.roc_curve(label, score)\n",
        "        youden = tpr - fpr\n",
        "        youden_J = np.max(youden)\n",
        "        inds_youden_J = np.where(youden == youden_J)\n",
        "        #print(\"Inds Youden J:\" ,inds_youden_J)\n",
        "        tpr_max = tpr[inds_youden_J]\n",
        "        fpr_max = fpr[inds_youden_J]\n",
        "        cut_off =  thresholds[inds_youden_J][0]\n",
        "        sensitivity = tpr_max[0]\n",
        "        specificity = 1 - fpr_max[0]\n",
        "        prevalence = np.where(label == 1)[0].shape[0] / label.shape[0]\n",
        "        acc = (sensitivity * prevalence) + (specificity * (1 - prevalence))\n",
        "        print(cut_off, sensitivity, specificity, acc)\n",
        "        auc = metrics.auc(fpr, tpr)\n",
        "        plt.plot(fpr, tpr, label=trial_info[trial_status]['label'] + ', AUC=' + str(round(auc, 2)),\n",
        "                 color=trial_info[trial_status]['color'])\n",
        "\n",
        "    plt.plot([0, 1], [0, 1], linestyle='--', lw=2, color='gray', alpha=.8)\n",
        "    plt.tick_params(labelsize=16, bottom=True, left=True)\n",
        "    plt.xlabel(\"1 - Specificity\", fontsize=12, fontweight='bold')\n",
        "    plt.ylabel(\"Sensitivity\", fontsize=12, fontweight='bold')\n",
        "    plt.grid(alpha=.3)\n",
        "    plt.legend(prop={'size': 12}, loc=4)\n",
        "    plt.title(model_name, fontweight='bold', fontsize=18)\n",
        "    # plt.show()\n",
        "    plt.savefig(figures_folder + model_name + '.jpg', dpi=300)\n",
        "    plt.close()"
      ]
    },
    {
      "cell_type": "code",
      "execution_count": 60,
      "metadata": {
        "id": "mARFDz5hXAKk"
      },
      "outputs": [],
      "source": [
        "# we try different strategies to build the ground truth PARKINSONS drug list\n",
        "\n",
        "drug_trial_list = [\n",
        "    'approve_phase1234', # FDA Approved AD drugs + AD drugs in clinical trials Phase I, II, III and IV. \n",
        "    'approve_phase234',  # FDA Approved AD drugs + AD drugs in clinical trials Phase II, III and IV. \n",
        "    'approve_phase34',   # FDA Approved AD drugs + AD drugs in clinical trials Phase III and IV. \n",
        "    'approve_phase4',    # FDA Approved AD drugs + AD drugs in clinical trials Phase IV. \n",
        "    'approve'            # FDA Approved AD drugs only. \n",
        "]"
      ]
    },
    {
      "attachments": {},
      "cell_type": "markdown",
      "metadata": {},
      "source": [
        "### Could be a batchsize issue with the model. Have to ask fabio to potentially scale down the drug size list. \n",
        "Fundamental error with the dataset, the way its designed wont work. "
      ]
    },
    {
      "cell_type": "code",
      "execution_count": 62,
      "metadata": {
        "colab": {
          "base_uri": "https://localhost:8080/",
          "height": 1000
        },
        "id": "GO0SfmtmXLTr",
        "outputId": "1c4da6af-635e-4f8c-a237-93fe0bea15d0"
      },
      "outputs": [
        {
          "name": "stdout",
          "output_type": "stream",
          "text": [
            "0.90850186 0.5531914893617021 0.6642780365460408 0.657267539442766\n",
            "0.92376256 0.45454545454545453 0.7564785232516862 0.740828004039044\n",
            "0.92376256 0.625 0.7543798177995795 0.7508520790729378\n",
            "0.92376256 0.7435897435897436 0.7500866551126517 0.7500000000000001\n",
            "0.93467414 0.7777777777777778 0.8147512864493996 0.8146374829001368\n"
          ]
        }
      ],
      "source": [
        "model_name = 'TransE'\n",
        "for trial_status in drug_trial_list:\n",
        "    AD_drugs_possibility_prediction(model_name, trial_status)\n",
        "\n",
        "generate_AUC(model_name)"
      ]
    },
    {
      "cell_type": "code",
      "execution_count": 63,
      "metadata": {
        "colab": {
          "base_uri": "https://localhost:8080/",
          "height": 1000
        },
        "id": "k5Tk0hxAXwyz",
        "outputId": "5e12b352-9970-471f-9193-cc333fa8edfc"
      },
      "outputs": [
        {
          "name": "stderr",
          "output_type": "stream",
          "text": [
            "C:\\Users\\hruda\\AppData\\Local\\Temp\\ipykernel_6280\\632631403.py:5: UserWarning: To copy construct from a tensor, it is recommended to use sourceTensor.clone().detach() or sourceTensor.clone().detach().requires_grad_(True), rather than torch.tensor(sourceTensor).\n",
            "  tail_r = th.einsum('b,bc->c', th.tensor(tail), proj)\n",
            "C:\\Users\\hruda\\AppData\\Local\\Temp\\ipykernel_6280\\632631403.py:5: UserWarning: To copy construct from a tensor, it is recommended to use sourceTensor.clone().detach() or sourceTensor.clone().detach().requires_grad_(True), rather than torch.tensor(sourceTensor).\n",
            "  tail_r = th.einsum('b,bc->c', th.tensor(tail), proj)\n",
            "C:\\Users\\hruda\\AppData\\Local\\Temp\\ipykernel_6280\\632631403.py:5: UserWarning: To copy construct from a tensor, it is recommended to use sourceTensor.clone().detach() or sourceTensor.clone().detach().requires_grad_(True), rather than torch.tensor(sourceTensor).\n",
            "  tail_r = th.einsum('b,bc->c', th.tensor(tail), proj)\n",
            "C:\\Users\\hruda\\AppData\\Local\\Temp\\ipykernel_6280\\632631403.py:5: UserWarning: To copy construct from a tensor, it is recommended to use sourceTensor.clone().detach() or sourceTensor.clone().detach().requires_grad_(True), rather than torch.tensor(sourceTensor).\n",
            "  tail_r = th.einsum('b,bc->c', th.tensor(tail), proj)\n",
            "C:\\Users\\hruda\\AppData\\Local\\Temp\\ipykernel_6280\\632631403.py:5: UserWarning: To copy construct from a tensor, it is recommended to use sourceTensor.clone().detach() or sourceTensor.clone().detach().requires_grad_(True), rather than torch.tensor(sourceTensor).\n",
            "  tail_r = th.einsum('b,bc->c', th.tensor(tail), proj)\n"
          ]
        },
        {
          "name": "stdout",
          "output_type": "stream",
          "text": [
            "0.9959231 0.3829787234042553 0.8491580078824794 0.8197381671701913\n",
            "0.9959231 0.37662337662337664 0.845580404685836 0.8212722988892627\n",
            "0.9868466 0.7 0.6800981079187105 0.6806407634628493\n",
            "0.98716235 0.8205128205128205 0.6797227036395148 0.6816005471956225\n",
            "0.99418056 0.7777777777777778 0.851114922813036 0.8508891928864569\n"
          ]
        }
      ],
      "source": [
        "model_name = 'TransR'\n",
        "for trial_status in drug_trial_list:\n",
        "    AD_drugs_possibility_prediction(model_name, trial_status)\n",
        "\n",
        "generate_AUC(model_name)"
      ]
    },
    {
      "cell_type": "code",
      "execution_count": 64,
      "metadata": {
        "colab": {
          "base_uri": "https://localhost:8080/",
          "height": 1000
        },
        "id": "mQfu5IdmZxN8",
        "outputId": "474dd43e-3c6f-4810-9371-e58db75e40b4"
      },
      "outputs": [
        {
          "name": "stdout",
          "output_type": "stream",
          "text": [
            "0.7106764 0.39361702127659576 0.7972053027588678 0.7717354817052703\n",
            "0.7106764 0.38961038961038963 0.7941072062477813 0.7731403567822281\n",
            "0.77733016 0.4625 0.8472319551506657 0.8367416496250852\n",
            "0.60831016 0.717948717948718 0.7261698440207972 0.7260601915184678\n",
            "0.4568792 0.7777777777777778 0.6435677530017152 0.6439808481532147\n"
          ]
        }
      ],
      "source": [
        "model_name = 'DistMult'\n",
        "for trial_status in drug_trial_list:\n",
        "    AD_drugs_possibility_prediction(model_name, trial_status)\n",
        "\n",
        "generate_AUC(model_name)"
      ]
    },
    {
      "cell_type": "code",
      "execution_count": 65,
      "metadata": {
        "colab": {
          "base_uri": "https://localhost:8080/",
          "height": 1000
        },
        "id": "fPmQQ_uSZy6e",
        "outputId": "b5a04c8c-b79a-458e-ef09-a621f030b3a4"
      },
      "outputs": [
        {
          "name": "stderr",
          "output_type": "stream",
          "text": [
            "C:\\Users\\hruda\\AppData\\Local\\Temp\\ipykernel_6280\\697845562.py:4: UserWarning: To copy construct from a tensor, it is recommended to use sourceTensor.clone().detach() or sourceTensor.clone().detach().requires_grad_(True), rather than torch.tensor(sourceTensor).\n",
            "  real_tail, img_tail = th.chunk(th.tensor(tail), 2, dim=-1)\n",
            "C:\\Users\\hruda\\AppData\\Local\\Temp\\ipykernel_6280\\697845562.py:4: UserWarning: To copy construct from a tensor, it is recommended to use sourceTensor.clone().detach() or sourceTensor.clone().detach().requires_grad_(True), rather than torch.tensor(sourceTensor).\n",
            "  real_tail, img_tail = th.chunk(th.tensor(tail), 2, dim=-1)\n",
            "C:\\Users\\hruda\\AppData\\Local\\Temp\\ipykernel_6280\\697845562.py:4: UserWarning: To copy construct from a tensor, it is recommended to use sourceTensor.clone().detach() or sourceTensor.clone().detach().requires_grad_(True), rather than torch.tensor(sourceTensor).\n",
            "  real_tail, img_tail = th.chunk(th.tensor(tail), 2, dim=-1)\n",
            "C:\\Users\\hruda\\AppData\\Local\\Temp\\ipykernel_6280\\697845562.py:4: UserWarning: To copy construct from a tensor, it is recommended to use sourceTensor.clone().detach() or sourceTensor.clone().detach().requires_grad_(True), rather than torch.tensor(sourceTensor).\n",
            "  real_tail, img_tail = th.chunk(th.tensor(tail), 2, dim=-1)\n",
            "C:\\Users\\hruda\\AppData\\Local\\Temp\\ipykernel_6280\\697845562.py:4: UserWarning: To copy construct from a tensor, it is recommended to use sourceTensor.clone().detach() or sourceTensor.clone().detach().requires_grad_(True), rather than torch.tensor(sourceTensor).\n",
            "  real_tail, img_tail = th.chunk(th.tensor(tail), 2, dim=-1)\n"
          ]
        },
        {
          "name": "stdout",
          "output_type": "stream",
          "text": [
            "0.87013674 0.5 0.6897169473307059 0.6777442094662639\n",
            "0.8709707 0.4935064935064935 0.6886758963436279 0.6785594076068663\n",
            "0.87883323 0.6375 0.7102312543798178 0.7082481254260395\n",
            "0.8794366 0.7435897435897436 0.7077989601386482 0.7082763337893297\n",
            "0.87964684 0.8888888888888888 0.7060034305317324 0.7065663474692202\n"
          ]
        }
      ],
      "source": [
        "model_name = 'ComplEx'\n",
        "for trial_status in drug_trial_list:\n",
        "    AD_drugs_possibility_prediction(model_name, trial_status)\n",
        "\n",
        "generate_AUC(model_name)"
      ]
    },
    {
      "cell_type": "code",
      "execution_count": 66,
      "metadata": {
        "colab": {
          "base_uri": "https://localhost:8080/",
          "height": 1000
        },
        "id": "aPnXIcboaqMe",
        "outputId": "cd026904-a66b-4288-cba7-aa806b16825d"
      },
      "outputs": [
        {
          "name": "stdout",
          "output_type": "stream",
          "text": [
            "0.7790990365419669 0.4308510638297872 0.8093873163740595 0.7854984894259819\n",
            "0.7967118997912318 0.4025974025974026 0.8239261625843095 0.8020868394479972\n",
            "0.8086282199839558 0.5375 0.8405746320953048 0.8323108384458077\n",
            "0.8080672569537608 0.6666666666666666 0.836048526863085 0.8337893296853626\n",
            "0.8080672569537608 0.7777777777777778 0.8312178387650085 0.8310533515731874\n"
          ]
        }
      ],
      "source": [
        "for trial_status in drug_trial_list:\n",
        "    ensemble_model(trial_status)\n",
        "\n",
        "generate_AUC('ensemble')"
      ]
    }
  ],
  "metadata": {
    "accelerator": "GPU",
    "colab": {
      "provenance": []
    },
    "gpuClass": "standard",
    "kernelspec": {
      "display_name": "Python 3",
      "name": "python3"
    },
    "language_info": {
      "codemirror_mode": {
        "name": "ipython",
        "version": 3
      },
      "file_extension": ".py",
      "mimetype": "text/x-python",
      "name": "python",
      "nbconvert_exporter": "python",
      "pygments_lexer": "ipython3",
      "version": "3.10.5"
    }
  },
  "nbformat": 4,
  "nbformat_minor": 0
}
